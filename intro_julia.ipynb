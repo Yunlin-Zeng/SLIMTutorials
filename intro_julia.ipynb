{
 "cells": [
  {
   "cell_type": "markdown",
   "id": "f98ed77e",
   "metadata": {},
   "source": [
    "# Introduction to Julia"
   ]
  },
  {
   "cell_type": "markdown",
   "id": "32c18b10",
   "metadata": {},
   "source": [
    "[Julia](https://julialang.org/) is a fast, dynamic, reprpducible, composable, general and open source programming language that can be downloaded [here](https://julialang.org/downloads/). The full documentation of the current release (v1.7) is available [here](https://docs.julialang.org/en/v1/). This tutorial is designed to go over the basics of Julia, and to cover several topics on which Julia's speed is based. \n",
    "\n",
    "1. use/add/remove/develop package\n",
    "2. basic linear algebra\n",
    "3. just-in-time (JIT) compiler\n",
    "4. multiple dispatch"
   ]
  },
  {
   "cell_type": "markdown",
   "id": "6c8d6734",
   "metadata": {},
   "source": [
    "## Package management\n",
    "\n",
    "In Julia, packages are loaded via `using` (like packages are loaded in python via `import`). We typically load all the packages we want to use at the start of the file as"
   ]
  },
  {
   "cell_type": "code",
   "execution_count": 1,
   "id": "7551cfb9",
   "metadata": {},
   "outputs": [],
   "source": [
    "using LinearAlgebra, Test"
   ]
  },
  {
   "cell_type": "markdown",
   "id": "ce734185",
   "metadata": {},
   "source": [
    "To add/remove a package, we can follow [Pkg.jl](https://github.com/JuliaLang/Pkg.jl) and run"
   ]
  },
  {
   "cell_type": "code",
   "execution_count": 2,
   "id": "b63af37e",
   "metadata": {},
   "outputs": [
    {
     "name": "stderr",
     "output_type": "stream",
     "text": [
      "\u001b[32m\u001b[1m    Updating\u001b[22m\u001b[39m registry at `~/.julia/registries/General`\n",
      "\u001b[32m\u001b[1m    Updating\u001b[22m\u001b[39m git-repo `https://github.com/JuliaRegistries/General.git`\n",
      "\u001b[32m\u001b[1m    Updating\u001b[22m\u001b[39m registry at `~/.julia/registries/SLIMregistryJL`\n",
      "\u001b[32m\u001b[1m    Updating\u001b[22m\u001b[39m git-repo `https://Github.com/slimgroup/SLIMregistryJL.git`\n",
      "\u001b[32m\u001b[1m   Resolving\u001b[22m\u001b[39m package versions...\n",
      "\u001b[32m\u001b[1m    Updating\u001b[22m\u001b[39m `~/.julia/environments/v1.7/Project.toml`\n",
      " \u001b[90m [42fd0dbc] \u001b[39m\u001b[93m~ IterativeSolvers v0.9.2 `https://github.com/JuliaLinearAlgebra/IterativeSolvers.jl.git#master` ⇒ v0.9.2\u001b[39m\n",
      "\u001b[32m\u001b[1m    Updating\u001b[22m\u001b[39m `~/.julia/environments/v1.7/Manifest.toml`\n",
      " \u001b[90m [42fd0dbc] \u001b[39m\u001b[93m~ IterativeSolvers v0.9.2 `https://github.com/JuliaLinearAlgebra/IterativeSolvers.jl.git#master` ⇒ v0.9.2\u001b[39m\n",
      "\u001b[32m\u001b[1mPrecompiling\u001b[22m\u001b[39m project...\n",
      "\u001b[32m  ✓ \u001b[39mIterativeSolvers\n",
      "\u001b[32m  ✓ \u001b[39mJOLI\n",
      "\u001b[32m  ✓ \u001b[39mJUDI\n",
      "\u001b[32m  ✓ \u001b[39mMECurvelets\n",
      "\u001b[32m  ✓ \u001b[39mInvertibleNetworks\n",
      "  5 dependencies successfully precompiled in 22 seconds (209 already precompiled)\n"
     ]
    }
   ],
   "source": [
    "using Pkg\n",
    "Pkg.add(\"IterativeSolvers\")"
   ]
  },
  {
   "cell_type": "code",
   "execution_count": 3,
   "id": "8d40316a",
   "metadata": {},
   "outputs": [
    {
     "name": "stderr",
     "output_type": "stream",
     "text": [
      "\u001b[32m\u001b[1m    Updating\u001b[22m\u001b[39m `~/.julia/environments/v1.7/Project.toml`\n",
      " \u001b[90m [42fd0dbc] \u001b[39m\u001b[91m- IterativeSolvers v0.9.2\u001b[39m\n",
      "\u001b[32m\u001b[1m  No Changes\u001b[22m\u001b[39m to `~/.julia/environments/v1.7/Manifest.toml`\n"
     ]
    }
   ],
   "source": [
    "Pkg.rm(\"IterativeSolvers\")"
   ]
  },
  {
   "cell_type": "markdown",
   "id": "74d415db",
   "metadata": {},
   "source": [
    "Note that we can also install a Julia package at a specific version, or from a GitHub repository"
   ]
  },
  {
   "cell_type": "code",
   "execution_count": 4,
   "id": "ae778ea5",
   "metadata": {},
   "outputs": [
    {
     "name": "stderr",
     "output_type": "stream",
     "text": [
      "\u001b[32m\u001b[1m   Resolving\u001b[22m\u001b[39m package versions...\n",
      "\u001b[32m\u001b[1m    Updating\u001b[22m\u001b[39m `~/.julia/environments/v1.7/Project.toml`\n",
      " \u001b[90m [42fd0dbc] \u001b[39m\u001b[92m+ IterativeSolvers v0.9.2\u001b[39m\n",
      "\u001b[32m\u001b[1m  No Changes\u001b[22m\u001b[39m to `~/.julia/environments/v1.7/Manifest.toml`\n"
     ]
    }
   ],
   "source": [
    "Pkg.add(name=\"IterativeSolvers\", version=\"0.9.2\")"
   ]
  },
  {
   "cell_type": "code",
   "execution_count": 5,
   "id": "c51fee74",
   "metadata": {},
   "outputs": [
    {
     "name": "stderr",
     "output_type": "stream",
     "text": [
      "\u001b[32m\u001b[1m    Updating\u001b[22m\u001b[39m git-repo `https://github.com/JuliaLinearAlgebra/IterativeSolvers.jl.git`\n",
      "\u001b[32m\u001b[1m   Resolving\u001b[22m\u001b[39m package versions...\n",
      "\u001b[32m\u001b[1m    Updating\u001b[22m\u001b[39m `~/.julia/environments/v1.7/Project.toml`\n",
      " \u001b[90m [42fd0dbc] \u001b[39m\u001b[93m~ IterativeSolvers v0.9.2 ⇒ v0.9.2 `https://github.com/JuliaLinearAlgebra/IterativeSolvers.jl.git#master`\u001b[39m\n",
      "\u001b[32m\u001b[1m    Updating\u001b[22m\u001b[39m `~/.julia/environments/v1.7/Manifest.toml`\n",
      " \u001b[90m [42fd0dbc] \u001b[39m\u001b[93m~ IterativeSolvers v0.9.2 ⇒ v0.9.2 `https://github.com/JuliaLinearAlgebra/IterativeSolvers.jl.git#master`\u001b[39m\n",
      "\u001b[32m\u001b[1mPrecompiling\u001b[22m\u001b[39m project...\n",
      "\u001b[32m  ✓ \u001b[39mIterativeSolvers\n",
      "\u001b[32m  ✓ \u001b[39mJOLI\n",
      "\u001b[32m  ✓ \u001b[39mJUDI\n",
      "\u001b[32m  ✓ \u001b[39mMECurvelets\n",
      "\u001b[32m  ✓ \u001b[39mInvertibleNetworks\n",
      "  5 dependencies successfully precompiled in 22 seconds (209 already precompiled)\n"
     ]
    }
   ],
   "source": [
    "Pkg.add(url=\"https://github.com/JuliaLinearAlgebra/IterativeSolvers.jl.git\", rev=\"master\")"
   ]
  },
  {
   "cell_type": "markdown",
   "id": "60b55456",
   "metadata": {},
   "source": [
    "We can also do these on julia's interactive command-line REPL (read-eval-print loop) via\n",
    "```julia\n",
    "] add IterativeSolvers\n",
    "] rm IterativeSolvers\n",
    "] add https://github.com/JuliaLinearAlgebra/IterativeSolvers.jl.git\n",
    "```\n",
    "etc."
   ]
  },
  {
   "cell_type": "markdown",
   "id": "5a1b0cb0",
   "metadata": {},
   "source": [
    "## Linear algebra"
   ]
  },
  {
   "cell_type": "markdown",
   "id": "5ee0e7ee",
   "metadata": {},
   "source": [
    "The syntax of creating multidimensional arrays is a bit similar to MATLAB. We use square brackets `[]` to set up a multidimensional array, and use semi-colon `;` to switch rows."
   ]
  },
  {
   "cell_type": "code",
   "execution_count": 6,
   "id": "47b357c9",
   "metadata": {},
   "outputs": [
    {
     "data": {
      "text/plain": [
       "2×2 Matrix{Int64}:\n",
       " 1  2\n",
       " 3  4"
      ]
     },
     "execution_count": 6,
     "metadata": {},
     "output_type": "execute_result"
    }
   ],
   "source": [
    "A = [1 2; 3 4]"
   ]
  },
  {
   "cell_type": "markdown",
   "id": "180f06b3",
   "metadata": {},
   "source": [
    "Note that multidimensional arrays are stored in a column-major order, meaning that they fill up one column at a time. We can verify this by vectorizing `A` via `vec` or `[:]`"
   ]
  },
  {
   "cell_type": "code",
   "execution_count": 7,
   "id": "2c6e2e00",
   "metadata": {},
   "outputs": [
    {
     "data": {
      "text/plain": [
       "4-element Vector{Int64}:\n",
       " 1\n",
       " 3\n",
       " 2\n",
       " 4"
      ]
     },
     "execution_count": 7,
     "metadata": {},
     "output_type": "execute_result"
    }
   ],
   "source": [
    "A[:]"
   ]
  },
  {
   "cell_type": "code",
   "execution_count": 8,
   "id": "71038ca1",
   "metadata": {},
   "outputs": [
    {
     "data": {
      "text/plain": [
       "4-element Vector{Int64}:\n",
       " 1\n",
       " 3\n",
       " 2\n",
       " 4"
      ]
     },
     "execution_count": 8,
     "metadata": {},
     "output_type": "execute_result"
    }
   ],
   "source": [
    "vec(A)"
   ]
  },
  {
   "cell_type": "markdown",
   "id": "f99215d7",
   "metadata": {},
   "source": [
    "It is also quite simple to create a vector using square bracket, and Julia assumes 1D vector as column vector."
   ]
  },
  {
   "cell_type": "code",
   "execution_count": 9,
   "id": "4171f3bb",
   "metadata": {},
   "outputs": [
    {
     "data": {
      "text/plain": [
       "2-element Vector{Int64}:\n",
       " 1\n",
       " 2"
      ]
     },
     "execution_count": 9,
     "metadata": {},
     "output_type": "execute_result"
    }
   ],
   "source": [
    "x = [1, 2]"
   ]
  },
  {
   "cell_type": "markdown",
   "id": "cfa36d6c",
   "metadata": {},
   "source": [
    "There are built-in basic linear algebraic operations, such as"
   ]
  },
  {
   "cell_type": "code",
   "execution_count": 10,
   "id": "bd3746c4",
   "metadata": {},
   "outputs": [
    {
     "data": {
      "text/plain": [
       "2×2 Matrix{Float64}:\n",
       " -2.0   1.0\n",
       "  1.5  -0.5"
      ]
     },
     "execution_count": 10,
     "metadata": {},
     "output_type": "execute_result"
    }
   ],
   "source": [
    "inv(A)"
   ]
  },
  {
   "cell_type": "code",
   "execution_count": 11,
   "id": "cee6e67f",
   "metadata": {},
   "outputs": [
    {
     "data": {
      "text/plain": [
       "2-element Vector{Int64}:\n",
       "  5\n",
       " 11"
      ]
     },
     "execution_count": 11,
     "metadata": {},
     "output_type": "execute_result"
    }
   ],
   "source": [
    "A * x"
   ]
  },
  {
   "cell_type": "code",
   "execution_count": 12,
   "id": "74cb1675",
   "metadata": {},
   "outputs": [
    {
     "data": {
      "text/plain": [
       "2-element Vector{Float64}:\n",
       " 0.0\n",
       " 0.5"
      ]
     },
     "execution_count": 12,
     "metadata": {},
     "output_type": "execute_result"
    }
   ],
   "source": [
    "A \\ x"
   ]
  },
  {
   "cell_type": "code",
   "execution_count": 13,
   "id": "2f419458",
   "metadata": {},
   "outputs": [
    {
     "data": {
      "text/plain": [
       "-2.0"
      ]
     },
     "execution_count": 13,
     "metadata": {},
     "output_type": "execute_result"
    }
   ],
   "source": [
    "det(A)"
   ]
  },
  {
   "cell_type": "markdown",
   "id": "52a10d70",
   "metadata": {},
   "source": [
    "## Just-in-time (JIT) compilation\n",
    "\n",
    "Julia code is just-in-time compiled---i.e., every statement runs using compiled functions which are either compiled right before they are used, or cached compilations from before. This is different from e.g. C, which is compiled before executed. Due to the JIT compilation, the first run of a function/operation typically takes slightly longer time as it needs to compile first. An example is shown below"
   ]
  },
  {
   "cell_type": "code",
   "execution_count": 14,
   "id": "1ffdf06f",
   "metadata": {},
   "outputs": [],
   "source": [
    "A = randn(Float32, 10^4, 10^4);\n",
    "b = randn(Float32, 10^4);"
   ]
  },
  {
   "cell_type": "code",
   "execution_count": 15,
   "id": "82594343",
   "metadata": {},
   "outputs": [
    {
     "name": "stdout",
     "output_type": "stream",
     "text": [
      "  0.066466 seconds (290.75 k allocations: 16.182 MiB, 79.50% compilation time)\n"
     ]
    }
   ],
   "source": [
    "@time A * b;"
   ]
  },
  {
   "cell_type": "code",
   "execution_count": 16,
   "id": "6e702df6",
   "metadata": {},
   "outputs": [
    {
     "name": "stdout",
     "output_type": "stream",
     "text": [
      "  0.013349 seconds (2 allocations: 39.109 KiB)\n"
     ]
    }
   ],
   "source": [
    "@time A * b;"
   ]
  },
  {
   "cell_type": "markdown",
   "id": "d656dd9e",
   "metadata": {},
   "source": [
    "The first time of execution this \"Float32 matrix and Float 32 vector product\" takes longer time and more memory allocations as this is the first time to run such functionality in the current notebook."
   ]
  },
  {
   "cell_type": "markdown",
   "id": "a129a907",
   "metadata": {},
   "source": [
    "## Multiple dispatch"
   ]
  },
  {
   "cell_type": "markdown",
   "id": "d54be6d0",
   "metadata": {},
   "source": [
    "The core design to make Julia fast is type-stability through specialization via multiple-dispatch. A single function in Julia can take different types of input and compile the function in specialized ways. This \"specialization\" brings huge performance gains to Julia. Let's first go over a simple example, namely scalar multiplication, and use the macro `@code_llvm` to check what Julia compiles it to  (LLVM is a type of portable assembly language)."
   ]
  },
  {
   "cell_type": "code",
   "execution_count": 17,
   "id": "2cce1215",
   "metadata": {},
   "outputs": [
    {
     "name": "stdout",
     "output_type": "stream",
     "text": [
      "\u001b[90m;  @ int.jl:88 within `*`\u001b[39m\n",
      "\u001b[95mdefine\u001b[39m \u001b[36mi64\u001b[39m \u001b[93m@\"julia_\u001b[39m\u001b[0m*\u001b[0m_2642\"\u001b[33m(\u001b[39m\u001b[36mi64\u001b[39m \u001b[95msignext\u001b[39m \u001b[0m%0\u001b[0m, \u001b[36mi64\u001b[39m \u001b[95msignext\u001b[39m \u001b[0m%1\u001b[33m)\u001b[39m \u001b[0m#0 \u001b[33m{\u001b[39m\n",
      "\u001b[91mtop:\u001b[39m\n",
      "  \u001b[0m%2 \u001b[0m= \u001b[96m\u001b[1mmul\u001b[22m\u001b[39m \u001b[36mi64\u001b[39m \u001b[0m%1\u001b[0m, \u001b[0m%0\n",
      "  \u001b[96m\u001b[1mret\u001b[22m\u001b[39m \u001b[36mi64\u001b[39m \u001b[0m%2\n",
      "\u001b[33m}\u001b[39m\n"
     ]
    }
   ],
   "source": [
    "@code_llvm 1 * 2"
   ]
  },
  {
   "cell_type": "markdown",
   "id": "d1c4269f",
   "metadata": {},
   "source": [
    "In this example, we want to compute the multiplication of 2 integers. As we can see, the underlying assembly code is running the multiplication of integers."
   ]
  },
  {
   "cell_type": "code",
   "execution_count": 18,
   "id": "3f468260",
   "metadata": {},
   "outputs": [
    {
     "name": "stdout",
     "output_type": "stream",
     "text": [
      "\u001b[90m;  @ float.jl:405 within `*`\u001b[39m\n",
      "\u001b[95mdefine\u001b[39m \u001b[36mdouble\u001b[39m \u001b[93m@\"julia_\u001b[39m\u001b[0m*\u001b[0m_2667\"\u001b[33m(\u001b[39m\u001b[36mdouble\u001b[39m \u001b[0m%0\u001b[0m, \u001b[36mdouble\u001b[39m \u001b[0m%1\u001b[33m)\u001b[39m \u001b[0m#0 \u001b[33m{\u001b[39m\n",
      "\u001b[91mtop:\u001b[39m\n",
      "  \u001b[0m%2 \u001b[0m= \u001b[96m\u001b[1mfmul\u001b[22m\u001b[39m \u001b[36mdouble\u001b[39m \u001b[0m%0\u001b[0m, \u001b[0m%1\n",
      "  \u001b[96m\u001b[1mret\u001b[22m\u001b[39m \u001b[36mdouble\u001b[39m \u001b[0m%2\n",
      "\u001b[33m}\u001b[39m\n"
     ]
    }
   ],
   "source": [
    "@code_llvm 1.0 * 2.0"
   ]
  },
  {
   "cell_type": "markdown",
   "id": "8efefd20",
   "metadata": {},
   "source": [
    "If we multiply 2 floating point numbers, we can see that a different (specialized) assembly code is used, which is designed specifically for the type `double` (`Float64` in Julia)."
   ]
  },
  {
   "cell_type": "code",
   "execution_count": 19,
   "id": "927c3947",
   "metadata": {},
   "outputs": [
    {
     "name": "stdout",
     "output_type": "stream",
     "text": [
      "\u001b[90m;  @ promotion.jl:380 within `*`\u001b[39m\n",
      "\u001b[95mdefine\u001b[39m \u001b[36mdouble\u001b[39m \u001b[93m@\"julia_\u001b[39m\u001b[0m*\u001b[0m_2669\"\u001b[33m(\u001b[39m\u001b[36mdouble\u001b[39m \u001b[0m%0\u001b[0m, \u001b[36mi64\u001b[39m \u001b[95msignext\u001b[39m \u001b[0m%1\u001b[33m)\u001b[39m \u001b[0m#0 \u001b[33m{\u001b[39m\n",
      "\u001b[91mtop:\u001b[39m\n",
      "\u001b[90m; ┌ @ promotion.jl:350 within `promote`\u001b[39m\n",
      "\u001b[90m; │┌ @ promotion.jl:327 within `_promote`\u001b[39m\n",
      "\u001b[90m; ││┌ @ number.jl:7 within `convert`\u001b[39m\n",
      "\u001b[90m; │││┌ @ float.jl:146 within `Float64`\u001b[39m\n",
      "      \u001b[0m%2 \u001b[0m= \u001b[96m\u001b[1msitofp\u001b[22m\u001b[39m \u001b[36mi64\u001b[39m \u001b[0m%1 \u001b[95mto\u001b[39m \u001b[36mdouble\u001b[39m\n",
      "\u001b[90m; └└└└\u001b[39m\n",
      "\u001b[90m;  @ promotion.jl:380 within `*` @ float.jl:405\u001b[39m\n",
      "  \u001b[0m%3 \u001b[0m= \u001b[96m\u001b[1mfmul\u001b[22m\u001b[39m \u001b[36mdouble\u001b[39m \u001b[0m%2\u001b[0m, \u001b[0m%0\n",
      "\u001b[90m;  @ promotion.jl:380 within `*`\u001b[39m\n",
      "  \u001b[96m\u001b[1mret\u001b[22m\u001b[39m \u001b[36mdouble\u001b[39m \u001b[0m%3\n",
      "\u001b[33m}\u001b[39m\n"
     ]
    }
   ],
   "source": [
    "@code_llvm 1.0 * 2"
   ]
  },
  {
   "cell_type": "markdown",
   "id": "1ab9dc77",
   "metadata": {},
   "source": [
    "If we want to multiply a floating point number and an integer, Julia promotes the integer first to a floating point number, then performs the multiplication."
   ]
  },
  {
   "cell_type": "markdown",
   "id": "16a44627",
   "metadata": {},
   "source": [
    "This means that the same function (multiplication `*` in this case) is executed via different compiled code blocks that are specialized for different kinds of input. This type-stability feature brings huge performance gain and potentially makes Julia to run almost as fast as C/Fortran (which are strictly typed). With that being said, we should also take advantage of this type-stability when implementing functions---i.e., dispatch a function to multiple types of input."
   ]
  },
  {
   "cell_type": "markdown",
   "id": "00ebb47b",
   "metadata": {},
   "source": [
    "Let's show a simple example: suppose we want to build a function to take the 2 norm of a scalar/vector/matrix (while we choose to ignore the existing norm functionality). A naive way to implement this would be"
   ]
  },
  {
   "cell_type": "code",
   "execution_count": 20,
   "id": "505395c0",
   "metadata": {},
   "outputs": [
    {
     "data": {
      "text/plain": [
       "my2norm (generic function with 1 method)"
      ]
     },
     "execution_count": 20,
     "metadata": {},
     "output_type": "execute_result"
    }
   ],
   "source": [
    "function my2norm(x)\n",
    "    if isa(x, Number)\n",
    "        return abs(x)\n",
    "    elseif isa(x, Vector)\n",
    "        return sqrt(sum(x.^2))\n",
    "    elseif isa(x, Matrix)\n",
    "        return return maximum(svdvals(x))\n",
    "    else\n",
    "        println(\"my function is not defined for this kind of input\")\n",
    "        return -1\n",
    "    end\n",
    "end"
   ]
  },
  {
   "cell_type": "markdown",
   "id": "0fbec8f4",
   "metadata": {},
   "source": [
    "In the above code block, we defined a function `my2norm` that uses nested if-else to find the type of `x` and perform the corresponding operation (absolute value for scalar, euclidean norm for vector, and largest singular value for matrix)."
   ]
  },
  {
   "cell_type": "markdown",
   "id": "b22d977d",
   "metadata": {},
   "source": [
    "However, there is a smarter and cleaner way to write this function, which provides exactly the same functionality."
   ]
  },
  {
   "cell_type": "code",
   "execution_count": 21,
   "id": "bcdd88ee",
   "metadata": {},
   "outputs": [
    {
     "data": {
      "text/plain": [
       "mysmart2norm (generic function with 4 methods)"
      ]
     },
     "execution_count": 21,
     "metadata": {},
     "output_type": "execute_result"
    }
   ],
   "source": [
    "mysmart2norm(x::Number) = abs(x)\n",
    "mysmart2norm(x::Vector) = sqrt(sum(x.^2))\n",
    "mysmart2norm(x::Matrix) = maximum(svdvals(x))\n",
    "mysmart2norm(x) = begin println(\"my function is not defined for this kind of input\"); return -1; end"
   ]
  },
  {
   "cell_type": "code",
   "execution_count": 22,
   "id": "46907b4d",
   "metadata": {},
   "outputs": [
    {
     "data": {
      "text/plain": [
       "\u001b[32m\u001b[1mTest Passed\u001b[22m\u001b[39m\n",
       "  Expression: my2norm(x) == mysmart2norm(x)\n",
       "   Evaluated: 141.3436048588063 == 141.3436048588063"
      ]
     },
     "execution_count": 22,
     "metadata": {},
     "output_type": "execute_result"
    }
   ],
   "source": [
    "x = randn(5 * 10^3, 5 * 10^3);\n",
    "@test my2norm(x) == mysmart2norm(x)"
   ]
  },
  {
   "cell_type": "markdown",
   "id": "d07415a6",
   "metadata": {},
   "source": [
    "The take-away message is: we should be careful of the type-stability aspect of Julia. We should take advantage of the multiple-dispatch feature in julia to write clean and type-stable functions. More performance tips of Julia can be found [here](https://docs.julialang.org/en/v1/manual/performance-tips/)."
   ]
  }
 ],
 "metadata": {
  "kernelspec": {
   "display_name": "Julia 1.7.1",
   "language": "julia",
   "name": "julia-1.7"
  },
  "language_info": {
   "file_extension": ".jl",
   "mimetype": "application/julia",
   "name": "julia",
   "version": "1.7.1"
  }
 },
 "nbformat": 4,
 "nbformat_minor": 5
}
