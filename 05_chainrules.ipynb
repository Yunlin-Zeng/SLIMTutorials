{
 "cells": [
  {
   "cell_type": "markdown",
   "id": "79abd170-a4e1-4d4f-a029-f8c9efff8e1c",
   "metadata": {},
   "source": [
    "# Chainrules: custom AD in julia\n",
    "\n",
    "In this tutorial, we will look at the automatic differentiation in julia, and in particular how `[ChainRules.jl](https://github.com/JuliaDiff/ChainRules.jl)` supports addition of your own differentiation rules into Julia's [Automatic Differentiation](https://juliadiff.org) system. This allows for seamless integration between your code, including its handcoded derivatives, and Julia's native AD systems, e.g. those used by [Flux](https://fluxml.ai/Flux.jl/stable/) Julia's machine learning platform. We use [ChainRules.jl](https://github.com/JuliaDiff/ChainRules.jl) to automatically differentiate codes that involve complex operations implemented by [JUDI.jl](https://github.com/slimgroup/JUDI.jl) (this example) and [JOLI.jl](https://github.com/slimgroup/JOLI.jl)."
   ]
  },
  {
   "cell_type": "code",
   "execution_count": 1,
   "id": "956fa166-e8c6-43b4-bc7d-a5d447cc8337",
   "metadata": {},
   "outputs": [],
   "source": [
    "using Flux, ChainRulesCore, LinearAlgebra"
   ]
  },
  {
   "cell_type": "markdown",
   "id": "a32563b4-5456-4478-8a89-1cfa5f0df9d4",
   "metadata": {},
   "source": [
    "## Simple example\n",
    "\n",
    "Let's consider a simple example with a basic differentiable function $x -> cos(x) + 1$"
   ]
  },
  {
   "cell_type": "code",
   "execution_count": 2,
   "id": "80a6140d-1cf5-4d0d-b868-a77e5626eceb",
   "metadata": {},
   "outputs": [
    {
     "data": {
      "text/plain": [
       "mycos (generic function with 1 method)"
      ]
     },
     "execution_count": 2,
     "metadata": {},
     "output_type": "execute_result"
    }
   ],
   "source": [
    "mycos(x) = cos(x) + 1"
   ]
  },
  {
   "cell_type": "markdown",
   "id": "d566d7b7-c622-4908-ac34-9f92d87c4d98",
   "metadata": {},
   "source": [
    "Now we know that the derivative of this function is $x -> -sin(x)$ from standard functional analysis.e can therefore define through chainrules a new rule for our function `f`"
   ]
  },
  {
   "cell_type": "code",
   "execution_count": 3,
   "id": "48bc1e91-2ed7-41e6-ae93-f519db2b3d9c",
   "metadata": {},
   "outputs": [],
   "source": [
    "function ChainRulesCore.rrule(::typeof(mycos), x)\n",
    "    println(\"Using custom AD rule for mycos\")\n",
    "    y = mycos(x)\n",
    "    pullback(Δy) = (NoTangent(), -sin(x)*Δy)\n",
    "    return y, pullback\n",
    "end"
   ]
  },
  {
   "cell_type": "markdown",
   "id": "30e97098-68fc-43b4-9db4-b436e3b158af",
   "metadata": {},
   "source": [
    "We now have the rule to compute the directional derivative of our function `mycos` . Let's check the gradient"
   ]
  },
  {
   "cell_type": "code",
   "execution_count": 4,
   "id": "258a2b81-914f-44cb-b27b-c7aab9f49e5e",
   "metadata": {},
   "outputs": [
    {
     "name": "stdout",
     "output_type": "stream",
     "text": [
      "Using custom AD rule for mycos\n",
      "True gradient: -1.8649005026115064 \n",
      "Standard AD  : -1.8649005026115064 \n",
      "Custom AD    : -1.8649005026115064\n"
     ]
    }
   ],
   "source": [
    "x0 = randn()\n",
    "# Standard AD of cos\n",
    "g1 = gradient(x->norm(cos(x)+1)^2, x0);\n",
    "# Our definition\n",
    "g2 = gradient(x->norm(mycos(x))^2, x0);\n",
    "# Analytical gradient\n",
    "g3 = -2*sin(x0)*(mycos(x0));\n",
    "println(\"True gradient: $(g3) \\nStandard AD  : $(g1[1]) \\nCustom AD    : $(g2[1])\")"
   ]
  },
  {
   "cell_type": "markdown",
   "id": "165cd502-a7c1-44cb-9a21-7304b5564200",
   "metadata": {},
   "source": [
    "And we see that we get the correct gradient. Nw this is an extremely simple case, now let's look at a more complicated case where we define the AD rule for matrix-free operators defined in JOLI"
   ]
  },
  {
   "cell_type": "markdown",
   "id": "945124bc-1549-41b5-a47b-43553dc065d0",
   "metadata": {},
   "source": [
    "# JOLI\n",
    "\n",
    "We look at how we define automatic differentiation rules involding matrix-free linear operator. We consider operations of the form `A*x` where `A` is a JOLI matrix-free linear operator and we differentiate with respect to the input `x`\n",
    "\n",
    "In JOLI, the base type of our linear operator is `joAbstractLinearOperator`. If we define the rule for this abstract type, all linear operator should follow. Now in this case the acual operation to be differentiated is the multiplication `*` with two inputs (`A, x`). Because we consider `A` to be fixed,its derivative will be defined as `NoTangent` that is `ChainRules`'s way to state there is no derivative for this input."
   ]
  },
  {
   "cell_type": "code",
   "execution_count": 5,
   "id": "c3441b5b-0d71-46ae-9816-71c7bbd3479a",
   "metadata": {},
   "outputs": [],
   "source": [
    "using JOLI"
   ]
  },
  {
   "cell_type": "code",
   "execution_count": 6,
   "id": "58925b2f-fb6f-4624-849c-c1462a7adfba",
   "metadata": {},
   "outputs": [],
   "source": [
    "function ChainRulesCore.rrule(::typeof(*), A::T, x) where {T<:joAbstractLinearOperator}\n",
    "    y = A*x\n",
    "    pullback(Δy) = (NoTangent(), NoTangent(), A'*Δy)\n",
    "    return y, pullback\n",
    "end"
   ]
  },
  {
   "cell_type": "markdown",
   "id": "586ba3dc-f0a0-41ab-82c3-c454da398b9d",
   "metadata": {},
   "source": [
    "With this rule defined we can now use a JOLI operator. Let's solve a simple data fitting problem with a restricted Fourier measuerment\n"
   ]
  },
  {
   "cell_type": "code",
   "execution_count": 7,
   "id": "00935311-ac38-4c61-a26e-f95680fd92eb",
   "metadata": {},
   "outputs": [],
   "source": [
    "using Random\n",
    "N = 128\n",
    "# Fourier transform as a linear operator\n",
    "F = joDFT(N)\n",
    "# Restriction\n",
    "R = joRomberg(N; DDT=Complex{Float64}, RDT=Complex{Float64})\n",
    "# Combine the operators\n",
    "A = R*F;"
   ]
  },
  {
   "cell_type": "code",
   "execution_count": 8,
   "id": "5d28d054-2e63-4b9d-9a93-c60a34c5e68f",
   "metadata": {},
   "outputs": [],
   "source": [
    "# Make data\n",
    "x = randn(128)\n",
    "b = A*x;"
   ]
  },
  {
   "cell_type": "markdown",
   "id": "fb9d10a8-fdab-4f94-8608-66e76ccdb406",
   "metadata": {},
   "source": [
    "Let's create a loss function"
   ]
  },
  {
   "cell_type": "code",
   "execution_count": 9,
   "id": "3c164ac8-29f9-4166-b010-46ebc4895dd0",
   "metadata": {},
   "outputs": [
    {
     "data": {
      "text/plain": [
       "loss (generic function with 1 method)"
      ]
     },
     "execution_count": 9,
     "metadata": {},
     "output_type": "execute_result"
    }
   ],
   "source": [
    "loss(x) = .5f0*norm(A*x - b)^2 + norm(A*x - b, 1)"
   ]
  },
  {
   "cell_type": "markdown",
   "id": "de440386-a65a-407f-9550-6f96edbc02d1",
   "metadata": {},
   "source": [
    "We can now easily obtain the gradient at any given `x` since the only undefined part would have been the JOLI operator that now has its own differentiation rule"
   ]
  },
  {
   "cell_type": "code",
   "execution_count": 10,
   "id": "ce89a1b9-226e-492e-9b76-45acd6727d2f",
   "metadata": {},
   "outputs": [
    {
     "data": {
      "text/plain": [
       "([0.13474305114511181, 0.2869709188435244, 3.633360606648581, 0.05113366965278532, 2.5686143424000853, -0.25070533176953763, 3.551231101753184, -2.885755896429605, 5.560390621099328, 2.3162055748862684  …  2.3271984199565323, -0.5072157359476902, 0.6859538088641302, -4.768927839775275, 2.39302573295268, 5.241514241351331, 1.6452505110584625, 0.6377236583016264, -2.678395044585236, -0.2697952112498267],)"
      ]
     },
     "execution_count": 10,
     "metadata": {},
     "output_type": "execute_result"
    }
   ],
   "source": [
    "gradient(loss, randn(128))"
   ]
  },
  {
   "cell_type": "markdown",
   "id": "3647af64-c6ad-4fe7-984b-eebba3783814",
   "metadata": {},
   "source": [
    "### Optimization\n",
    "Let's now slve the problem above with standard gradient descent"
   ]
  },
  {
   "cell_type": "code",
   "execution_count": 11,
   "id": "9615904d-63bb-4aad-9141-4207f11db7a4",
   "metadata": {},
   "outputs": [],
   "source": [
    "using Optim"
   ]
  },
  {
   "cell_type": "code",
   "execution_count": 12,
   "id": "5b2c2120-9414-4ab5-b82c-7981bb2d3e8e",
   "metadata": {},
   "outputs": [],
   "source": [
    "δloss!(g, x) = begin g.=gradient(loss, x)[1]; return loss(x) end;"
   ]
  },
  {
   "cell_type": "code",
   "execution_count": 13,
   "id": "39d9d4ab-22d5-40c1-a7fb-5737f4b71214",
   "metadata": {},
   "outputs": [
    {
     "name": "stdout",
     "output_type": "stream",
     "text": [
      "Iter     Function value   Gradient norm \n",
      "     0     2.695805e+02     6.804750e+00\n",
      " * time: 0.022671937942504883\n",
      "     1     1.708839e+02     5.369350e+00\n",
      " * time: 1.3831229209899902\n",
      "     2     7.217453e+00     2.762446e+00\n",
      " * time: 1.6056859493255615\n",
      "     3     3.716482e+00     2.448193e+00\n",
      " * time: 1.7042651176452637\n",
      "     4     2.084910e+00     2.672717e+00\n",
      " * time: 1.9161639213562012\n",
      "     5     1.169315e+00     2.680530e+00\n",
      " * time: 2.28397798538208\n",
      "     6     7.702332e-01     2.991126e+00\n",
      " * time: 2.5992629528045654\n",
      "     7     4.573554e-01     2.542154e+00\n",
      " * time: 2.773646116256714\n",
      "     8     3.773742e-01     2.381621e+00\n",
      " * time: 2.939305067062378\n",
      "     9     2.299894e-01     2.444437e+00\n",
      " * time: 3.2251839637756348\n",
      "    10     1.630411e-01     2.230786e+00\n",
      " * time: 3.405548095703125\n",
      "    11     9.392154e-02     2.316834e+00\n",
      " * time: 3.6459739208221436\n",
      "    12     2.890879e-02     2.228269e+00\n",
      " * time: 3.8856630325317383\n",
      "    13     1.838478e-02     2.428651e+00\n",
      " * time: 3.9636311531066895\n",
      "    14     1.225472e-02     2.892802e+00\n",
      " * time: 4.035455942153931\n",
      "    15     5.349679e-03     2.895402e+00\n",
      " * time: 4.1787190437316895\n",
      "    16     3.539908e-03     2.648411e+00\n",
      " * time: 4.249905109405518\n",
      "    17     1.806497e-03     3.216403e+00\n",
      " * time: 4.3734290599823\n",
      "    18     1.301503e-03     2.285335e+00\n",
      " * time: 4.441926002502441\n",
      "    19     5.835316e-04     2.916107e+00\n",
      " * time: 4.625226974487305\n",
      "    20     3.944622e-04     2.452421e+00\n",
      " * time: 4.691247940063477\n",
      "    21     1.812778e-04     2.217420e+00\n",
      " * time: 4.865199089050293\n",
      "    22     1.314535e-04     2.539291e+00\n",
      " * time: 4.9412760734558105\n",
      "    23     8.494970e-05     2.763224e+00\n",
      " * time: 5.114795923233032\n",
      "    24     6.078837e-05     2.274711e+00\n",
      " * time: 5.235667943954468\n",
      "    25     1.972995e-05     3.489087e+00\n",
      " * time: 5.452948093414307\n",
      "    26     1.081509e-05     2.709005e+00\n",
      " * time: 5.5241570472717285\n",
      "    27     8.053842e-06     3.240547e+00\n",
      " * time: 5.595904111862183\n",
      "    28     4.776818e-06     3.110427e+00\n",
      " * time: 5.747678995132446\n",
      "    29     2.431599e-06     2.543292e+00\n",
      " * time: 5.867140054702759\n",
      "    30     2.060846e-06     2.891307e+00\n",
      " * time: 5.940992116928101\n",
      "    31     6.545112e-07     2.942892e+00\n",
      " * time: 6.177820920944214\n",
      "    32     4.428565e-07     2.882363e+00\n",
      " * time: 6.259626150131226\n",
      "    33     2.331303e-07     2.494674e+00\n",
      " * time: 6.431786060333252\n",
      "    34     1.163360e-07     2.448364e+00\n",
      " * time: 6.557882070541382\n",
      "    35     8.015490e-08     2.603398e+00\n",
      " * time: 6.634074926376343\n",
      "    36     4.182396e-08     2.462161e+00\n",
      " * time: 6.784274101257324\n",
      "    37     2.564226e-08     2.744757e+00\n",
      " * time: 6.942594051361084\n",
      "    38     1.073941e-08     2.148077e+00\n",
      " * time: 7.092559099197388\n",
      "    39     7.317504e-09     2.554194e+00\n",
      " * time: 7.176419019699097\n",
      "    40     4.114598e-09     2.659557e+00\n",
      " * time: 7.3708460330963135\n",
      "    41     2.754551e-09     2.557423e+00\n",
      " * time: 7.498511075973511\n",
      "    42     1.273098e-09     2.604555e+00\n",
      " * time: 7.621254920959473\n",
      "    43     8.373015e-10     2.314837e+00\n",
      " * time: 7.7593090534210205\n",
      "    44     7.740106e-10     2.962523e+00\n",
      " * time: 7.8288140296936035\n",
      "    45     4.140874e-10     2.656040e+00\n",
      " * time: 7.95716404914856\n",
      "    46     2.166914e-10     2.580751e+00\n",
      " * time: 8.077091932296753\n",
      "    47     1.667005e-10     2.227777e+00\n",
      " * time: 8.202381134033203\n",
      "    48     7.831278e-11     2.616906e+00\n",
      " * time: 8.388399124145508\n",
      "    49     4.136751e-11     2.929336e+00\n",
      " * time: 8.511420011520386\n",
      "    50     1.281260e-11     2.726702e+00\n",
      " * time: 8.687911987304688\n",
      "    51     9.369492e-12     2.179423e+00\n",
      " * time: 8.759757041931152\n",
      "    52     5.369271e-12     2.863307e+00\n",
      " * time: 8.880644083023071\n",
      "    53     3.203348e-12     3.183357e+00\n",
      " * time: 9.015241146087646\n",
      "    54     1.620886e-12     2.733259e+00\n",
      " * time: 9.137094020843506\n",
      "    55     1.536326e-12     3.409638e+00\n",
      " * time: 9.206049919128418\n",
      "    56     6.901384e-13     2.521969e+00\n",
      " * time: 9.333287000656128\n",
      "    57     4.588502e-13     2.407157e+00\n",
      " * time: 9.406753063201904\n",
      "    58     2.514496e-13     2.137046e+00\n",
      " * time: 9.57938003540039\n",
      "    59     1.329093e-13     2.122141e+00\n",
      " * time: 9.652291059494019\n",
      "    60     9.843769e-14     2.295998e+00\n",
      " * time: 9.719484090805054\n",
      "    61     9.843769e-14     2.295998e+00\n",
      " * time: 9.7710599899292\n"
     ]
    },
    {
     "data": {
      "text/plain": [
       " * Status: success\n",
       "\n",
       " * Candidate solution\n",
       "    Final objective value:     9.843769e-14\n",
       "\n",
       " * Found with\n",
       "    Algorithm:     Conjugate Gradient\n",
       "\n",
       " * Convergence measures\n",
       "    |x - x'|               = 0.00e+00 ≤ 0.0e+00\n",
       "    |x - x'|/|x'|          = 0.00e+00 ≤ 0.0e+00\n",
       "    |f(x) - f(x')|         = 0.00e+00 ≤ 0.0e+00\n",
       "    |f(x) - f(x')|/|f(x')| = 0.00e+00 ≤ 0.0e+00\n",
       "    |g(x)|                 = 2.30e+00 ≰ 1.0e-12\n",
       "\n",
       " * Work counters\n",
       "    Seconds run:   10  (vs limit Inf)\n",
       "    Iterations:    61\n",
       "    f(x) calls:    180\n",
       "    ∇f(x) calls:   117\n"
      ]
     },
     "execution_count": 13,
     "metadata": {},
     "output_type": "execute_result"
    }
   ],
   "source": [
    "sol = optimize(loss, δloss!, randn(N), ConjugateGradient(),\n",
    "                   Optim.Options(g_tol = 1e-12, iterations = 200, store_trace = true, show_trace = true, show_every=1))"
   ]
  },
  {
   "cell_type": "code",
   "execution_count": 14,
   "id": "710352fd-b305-4526-a930-089fcc4e6a15",
   "metadata": {},
   "outputs": [
    {
     "data": {
      "image/png": "[encoded data removed]",
      "text/plain": [
       "Figure(PyObject <Figure size 640x480 with 1 Axes>)"
      ]
     },
     "metadata": {},
     "output_type": "display_data"
    },
    {
     "data": {
      "text/plain": [
       "PyObject <matplotlib.legend.Legend object at 0x162d8d640>"
      ]
     },
     "execution_count": 14,
     "metadata": {},
     "output_type": "execute_result"
    }
   ],
   "source": [
    "using PyPlot\n",
    "plot(x, label=\"true\")\n",
    "plot(sol.minimizer, label=\"Recovered\")\n",
    "legend()"
   ]
  }
 ],
 "metadata": {
  "kernelspec": {
   "display_name": "Julia 1.8.0",
   "language": "julia",
   "name": "julia-1.8"
  },
  "language_info": {
   "file_extension": ".jl",
   "mimetype": "application/julia",
   "name": "julia",
   "version": "1.8.0"
  }
 },
 "nbformat": 4,
 "nbformat_minor": 5
}
