{
 "cells": [
  {
   "cell_type": "markdown",
   "id": "f8b2bff1-cb9d-46d4-9177-7c2200023c8a",
   "metadata": {},
   "source": [
    "# SEGY handling in julia\n",
    "\n",
    "In this tutorial we will show we handle SEGY data in julia:\n",
    "- How t o read a SEGY file\n",
    "- How to scan multiple SEGY files\n",
    "- How JUDI interfaces with SegyIO"
   ]
  },
  {
   "cell_type": "code",
   "execution_count": 1,
   "id": "c53dd929-1402-4590-9736-a8a2f1db859d",
   "metadata": {},
   "outputs": [],
   "source": [
    "using JUDI, SegyIO, PyPlot"
   ]
  },
  {
   "cell_type": "markdown",
   "id": "fbd1be79-c032-4e46-aecf-3d1b34536c1c",
   "metadata": {},
   "source": [
    "# Data\n",
    "\n",
    "We consider a subset of the 2007 BP TTI dataset. "
   ]
  },
  {
   "cell_type": "code",
   "execution_count": null,
   "id": "16dd9c55",
   "metadata": {},
   "outputs": [],
   "source": [
    "run(`curl -L -o data.zip https://www.dropbox.com/sh/m2ksfp7wjww3jds/AADswzf_8ZdMiDW-nmrLNgJ0a?dl=0`)"
   ]
  },
  {
   "cell_type": "code",
   "execution_count": 22,
   "id": "386efdc7-d759-42e4-b1a3-e1d7c7376863",
   "metadata": {},
   "outputs": [
    {
     "ename": "LoadError",
     "evalue": "IOError: readdir(\"/data/bpttidata/\"): no such file or directory (ENOENT)",
     "output_type": "error",
     "traceback": [
      "IOError: readdir(\"/data/bpttidata/\"): no such file or directory (ENOENT)",
      "",
      "Stacktrace:",
      " [1] uv_error",
      "   @ ./libuv.jl:97 [inlined]",
      " [2] readdir(dir::String; join::Bool, sort::Bool)",
      "   @ Base.Filesystem ./file.jl:851",
      " [3] readdir(dir::String)",
      "   @ Base.Filesystem ./file.jl:846",
      " [4] top-level scope",
      "   @ In[22]:1",
      " [5] eval",
      "   @ ./boot.jl:373 [inlined]",
      " [6] include_string(mapexpr::typeof(REPL.softscope), mod::Module, code::String, filename::String)",
      "   @ Base ./loading.jl:1196"
     ]
    }
   ],
   "source": [
    "readdir(\"/data/bpttidata/\")"
   ]
  },
  {
   "cell_type": "markdown",
   "id": "e4adc461-5b6f-42f9-a9f6-060d11edbf70",
   "metadata": {},
   "source": [
    "## SegyRead\n",
    "\n",
    "We first red a single file directly into memory.\n",
    "\n",
    "This data is a segy container. We can access different headers and the traces:\n",
    "- `shot.data` contains the traces (in IBMFloat32 format)\n",
    "- `shot.fileheader` contains the file header\n",
    "- `shot.traceheader[i]` containts thew trace heaader for the trace numer `i`"
   ]
  },
  {
   "cell_type": "code",
   "execution_count": 3,
   "id": "469609b6-01e8-4cd3-9be6-5e11221708ee",
   "metadata": {},
   "outputs": [
    {
     "ename": "LoadError",
     "evalue": "SystemError: opening file \"../data/bpttidata/BPTTI_1289.segy\": No such file or directory",
     "output_type": "error",
     "traceback": [
      "SystemError: opening file \"../data/bpttidata/BPTTI_1289.segy\": No such file or directory",
      "",
      "Stacktrace:",
      " [1] systemerror(p::String, errno::Int32; extrainfo::Nothing)",
      "   @ Base ./error.jl:174",
      " [2] #systemerror#68",
      "   @ ./error.jl:173 [inlined]",
      " [3] systemerror",
      "   @ ./error.jl:173 [inlined]",
      " [4] open(fname::String; lock::Bool, read::Nothing, write::Nothing, create::Nothing, truncate::Nothing, append::Nothing)",
      "   @ Base ./iostream.jl:293",
      " [5] segy_read(file::String; buffer::Bool, warn_user::Bool)",
      "   @ SegyIO ~/.julia/packages/SegyIO/qkvUT/src/read/segy_read.jl:0",
      " [6] segy_read(file::String)",
      "   @ SegyIO ~/.julia/packages/SegyIO/qkvUT/src/read/segy_read.jl:8",
      " [7] top-level scope",
      "   @ In[3]:1",
      " [8] eval",
      "   @ ./boot.jl:373 [inlined]",
      " [9] include_string(mapexpr::typeof(REPL.softscope), mod::Module, code::String, filename::String)",
      "   @ Base ./loading.jl:1196"
     ]
    }
   ],
   "source": [
    "shot = segy_read(\"../data/bpttidata/BPTTI_1289.segy\");"
   ]
  },
  {
   "cell_type": "code",
   "execution_count": 4,
   "id": "bfc9b2b6-5f05-4215-b637-0f32991a2a15",
   "metadata": {},
   "outputs": [
    {
     "ename": "LoadError",
     "evalue": "UndefVarError: shot not defined",
     "output_type": "error",
     "traceback": [
      "UndefVarError: shot not defined",
      "",
      "Stacktrace:",
      " [1] top-level scope",
      "   @ In[4]:1",
      " [2] eval",
      "   @ ./boot.jl:373 [inlined]",
      " [3] include_string(mapexpr::typeof(REPL.softscope), mod::Module, code::String, filename::String)",
      "   @ Base ./loading.jl:1196"
     ]
    }
   ],
   "source": [
    "shot.fileheader"
   ]
  },
  {
   "cell_type": "code",
   "execution_count": 5,
   "id": "c6ce1a19-c07c-4f9f-b486-66807606b595",
   "metadata": {},
   "outputs": [
    {
     "ename": "LoadError",
     "evalue": "UndefVarError: shot not defined",
     "output_type": "error",
     "traceback": [
      "UndefVarError: shot not defined",
      "",
      "Stacktrace:",
      " [1] top-level scope",
      "   @ In[5]:1",
      " [2] eval",
      "   @ ./boot.jl:373 [inlined]",
      " [3] include_string(mapexpr::typeof(REPL.softscope), mod::Module, code::String, filename::String)",
      "   @ Base ./loading.jl:1196"
     ]
    }
   ],
   "source": [
    "shot.traceheaders[10]"
   ]
  },
  {
   "cell_type": "markdown",
   "id": "41d8b56f-9cb3-46d0-b3ea-ab04020ea389",
   "metadata": {},
   "source": [
    "We can then easily extra headers from the segy container"
   ]
  },
  {
   "cell_type": "code",
   "execution_count": 6,
   "id": "6dac4f49-a889-47b1-981e-d4fe2f566d40",
   "metadata": {},
   "outputs": [
    {
     "ename": "LoadError",
     "evalue": "UndefVarError: shot not defined",
     "output_type": "error",
     "traceback": [
      "UndefVarError: shot not defined",
      "",
      "Stacktrace:",
      " [1] top-level scope",
      "   @ In[6]:1",
      " [2] eval",
      "   @ ./boot.jl:373 [inlined]",
      " [3] include_string(mapexpr::typeof(REPL.softscope), mod::Module, code::String, filename::String)",
      "   @ Base ./loading.jl:1196"
     ]
    }
   ],
   "source": [
    "sx = get_header(shot, \"SourceX\")\n",
    "rx = get_header(shot, :GroupX);\n",
    "dt = get_header(shot, :dt)[1]*1e-3\n",
    "T = (get_header(shot, :ns)[1] -1)*dt"
   ]
  },
  {
   "cell_type": "code",
   "execution_count": 7,
   "id": "b13121aa-290d-4ecd-a02b-6a8f2b9eb35f",
   "metadata": {},
   "outputs": [
    {
     "ename": "LoadError",
     "evalue": "UndefVarError: rx not defined",
     "output_type": "error",
     "traceback": [
      "UndefVarError: rx not defined",
      "",
      "Stacktrace:",
      " [1] top-level scope",
      "   @ In[7]:1",
      " [2] eval",
      "   @ ./boot.jl:373 [inlined]",
      " [3] include_string(mapexpr::typeof(REPL.softscope), mod::Module, code::String, filename::String)",
      "   @ Base ./loading.jl:1196"
     ]
    }
   ],
   "source": [
    "extent = [rx[1], rx[end], T, 0]\n",
    "figure(figsize=(10, 10))\n",
    "imshow(Float32.(shot.data), vmin=-.5, vmax=.5, cmap=\"PuOr\", interpolation=:hamming, extent=extent)\n",
    "xlabel(\"Receiver positon (m)\")\n",
    "ylabel(\"Time (ms)\")\n",
    "title(\"Source at $(sx[1])m\")"
   ]
  },
  {
   "cell_type": "markdown",
   "id": "473e2f86-96fe-482f-badf-b5bc0d0291fd",
   "metadata": {},
   "source": [
    "## Segy Scan\n",
    "\n",
    "The scanner is designed to be multi-scale, meaning that your workflow will stay the same regardless of whether you are working on 1 MB or 1TB of data. SegyIO accomplishes this by being:\n",
    "\n",
    "  - Direct. Read only what needs to be read.\n",
    "\n",
    "  - Seamless. Remove the need to deal with complex filesystems.\n",
    "\n",
    "  - Performant. Read, write, and scan at disk speed.\n",
    "\n",
    "A scanned volume provides a higher level of abstraction, removing the need for a user to directly manage individual files. Scanning a file (or a group of files) returns a SeisCon object, which contains the necessary information to partition the volume into more managable pieces and directly access these partitions. By default, the scanner will automatically partition the volume when the source location changes.\n"
   ]
  },
  {
   "cell_type": "code",
   "execution_count": 8,
   "id": "7d1b1520-e530-4cbf-8882-5648db2418de",
   "metadata": {},
   "outputs": [
    {
     "data": {
      "text/plain": [
       "\"BPTTI\""
      ]
     },
     "execution_count": 8,
     "metadata": {},
     "output_type": "execute_result"
    }
   ],
   "source": [
    "dir2scan = joinpath(pwd(),\"../data/bpttidata/\")\n",
    "file_filter = \"BPTTI\""
   ]
  },
  {
   "cell_type": "markdown",
   "id": "db4451ab-7a73-4217-a351-1783ee14af9f",
   "metadata": {},
   "source": [
    "We choose wich keys we want to get easy access to after the scan."
   ]
  },
  {
   "cell_type": "code",
   "execution_count": 9,
   "id": "b903b791-5235-4ee1-b811-cd69fc34a0b3",
   "metadata": {},
   "outputs": [
    {
     "data": {
      "text/plain": [
       "5-element Vector{String}:\n",
       " \"GroupX\"\n",
       " \"GroupY\"\n",
       " \"RecGroupElevation\"\n",
       " \"SourceSurfaceElevation\"\n",
       " \"dt\""
      ]
     },
     "execution_count": 9,
     "metadata": {},
     "output_type": "execute_result"
    }
   ],
   "source": [
    "keys = [\"GroupX\", \"GroupY\", \"RecGroupElevation\", \"SourceSurfaceElevation\", \"dt\"]"
   ]
  },
  {
   "cell_type": "code",
   "execution_count": 10,
   "id": "e1508019-09cf-4a89-ac5d-74b8e32175f9",
   "metadata": {},
   "outputs": [
    {
     "ename": "LoadError",
     "evalue": "IOError: readdir(\"/data/home/zyin62/Desktop/projects/SLIMTutorials/../data/bpttidata/\"): no such file or directory (ENOENT)",
     "output_type": "error",
     "traceback": [
      "IOError: readdir(\"/data/home/zyin62/Desktop/projects/SLIMTutorials/../data/bpttidata/\"): no such file or directory (ENOENT)",
      "",
      "Stacktrace:",
      " [1] uv_error",
      "   @ ./libuv.jl:97 [inlined]",
      " [2] readdir(dir::String; join::Bool, sort::Bool)",
      "   @ Base.Filesystem ./file.jl:851",
      " [3] readdir",
      "   @ ./file.jl:846 [inlined]",
      " [4] searchdir(path::String, filt::String)",
      "   @ SegyIO ~/.julia/packages/SegyIO/qkvUT/src/scan/segy_scan.jl:122",
      " [5] segy_scan(dir::String, filt::String, keys::Vector{String}; chunksize::Int64, pool::Distributed.WorkerPool, verbosity::Int64, filter::Bool)",
      "   @ SegyIO ~/.julia/packages/SegyIO/qkvUT/src/scan/segy_scan.jl:83",
      " [6] segy_scan(dir::String, filt::String, keys::Vector{String})",
      "   @ SegyIO ~/.julia/packages/SegyIO/qkvUT/src/scan/segy_scan.jl:82",
      " [7] top-level scope",
      "   @ In[10]:1",
      " [8] eval",
      "   @ ./boot.jl:373 [inlined]",
      " [9] include_string(mapexpr::typeof(REPL.softscope), mod::Module, code::String, filename::String)",
      "   @ Base ./loading.jl:1196"
     ]
    }
   ],
   "source": [
    "segy_lu = segy_scan(dir2scan, file_filter, keys);"
   ]
  },
  {
   "cell_type": "markdown",
   "id": "570ee1b7-06db-46e5-8eab-ec2f6ba537f7",
   "metadata": {},
   "source": [
    "As we can see we found all the segy files in the directory. We know there is 111 shot records let's check the container"
   ]
  },
  {
   "cell_type": "code",
   "execution_count": 11,
   "id": "2ad6b463-4a54-4813-8d57-48bb25132e88",
   "metadata": {},
   "outputs": [
    {
     "ename": "LoadError",
     "evalue": "UndefVarError: segy_lu not defined",
     "output_type": "error",
     "traceback": [
      "UndefVarError: segy_lu not defined",
      "",
      "Stacktrace:",
      " [1] top-level scope",
      "   @ In[11]:1",
      " [2] eval",
      "   @ ./boot.jl:373 [inlined]",
      " [3] include_string(mapexpr::typeof(REPL.softscope), mod::Module, code::String, filename::String)",
      "   @ Base ./loading.jl:1196"
     ]
    }
   ],
   "source": [
    "length(segy_lu)"
   ]
  },
  {
   "cell_type": "markdown",
   "id": "308aba7f-0a9e-43e6-8aa9-32a8a69d85c2",
   "metadata": {},
   "source": [
    "We scanned correctly the directory for all the shot records. We can now extract global information such as all the source positions"
   ]
  },
  {
   "cell_type": "code",
   "execution_count": 12,
   "id": "5c4170f4-a8ab-4186-887d-6fa591cc5ade",
   "metadata": {},
   "outputs": [
    {
     "ename": "LoadError",
     "evalue": "UndefVarError: segy_lu not defined",
     "output_type": "error",
     "traceback": [
      "UndefVarError: segy_lu not defined",
      "",
      "Stacktrace:",
      " [1] top-level scope",
      "   @ In[12]:1",
      " [2] eval",
      "   @ ./boot.jl:373 [inlined]",
      " [3] include_string(mapexpr::typeof(REPL.softscope), mod::Module, code::String, filename::String)",
      "   @ Base ./loading.jl:1196"
     ]
    }
   ],
   "source": [
    "src_locations = get_sources(segy_lu).*1e-4"
   ]
  },
  {
   "cell_type": "markdown",
   "id": "be71e2bd-7d6f-4485-abe1-ca358a847a3e",
   "metadata": {},
   "source": [
    "# judiVector\n",
    "Finally, we can wrap the segy container into a judiVector to use it for example for inversion"
   ]
  },
  {
   "cell_type": "code",
   "execution_count": 13,
   "id": "6a2570f3-c148-49f8-804a-d2bd77cc257c",
   "metadata": {},
   "outputs": [
    {
     "ename": "LoadError",
     "evalue": "UndefVarError: segy_lu not defined",
     "output_type": "error",
     "traceback": [
      "UndefVarError: segy_lu not defined",
      "",
      "Stacktrace:",
      " [1] top-level scope",
      "   @ In[13]:1",
      " [2] eval",
      "   @ ./boot.jl:373 [inlined]",
      " [3] include_string(mapexpr::typeof(REPL.softscope), mod::Module, code::String, filename::String)",
      "   @ Base ./loading.jl:1196"
     ]
    }
   ],
   "source": [
    "d_tti = judiVector(segy_lu);"
   ]
  },
  {
   "cell_type": "code",
   "execution_count": 14,
   "id": "3c7e0caa-f92c-4fdc-aa9d-b99e9bd57d2a",
   "metadata": {},
   "outputs": [
    {
     "ename": "LoadError",
     "evalue": "UndefVarError: d_tti not defined",
     "output_type": "error",
     "traceback": [
      "UndefVarError: d_tti not defined",
      "",
      "Stacktrace:",
      " [1] top-level scope",
      "   @ In[14]:1",
      " [2] eval",
      "   @ ./boot.jl:373 [inlined]",
      " [3] include_string(mapexpr::typeof(REPL.softscope), mod::Module, code::String, filename::String)",
      "   @ Base ./loading.jl:1196"
     ]
    }
   ],
   "source": [
    "d_tti.nsrc"
   ]
  },
  {
   "cell_type": "markdown",
   "id": "debd08cd-d28c-4cbe-8404-b43fc63379e5",
   "metadata": {},
   "source": [
    "And we can create a source object with unknow wavelet (initialize to a  wavelet in this case)"
   ]
  },
  {
   "cell_type": "code",
   "execution_count": 15,
   "id": "67dd48ef-6562-4905-96bc-37b5bc02cb85",
   "metadata": {},
   "outputs": [
    {
     "ename": "LoadError",
     "evalue": "UndefVarError: segy_lu not defined",
     "output_type": "error",
     "traceback": [
      "UndefVarError: segy_lu not defined",
      "",
      "Stacktrace:",
      " [1] top-level scope",
      "   @ In[15]:1",
      " [2] eval",
      "   @ ./boot.jl:373 [inlined]",
      " [3] include_string(mapexpr::typeof(REPL.softscope), mod::Module, code::String, filename::String)",
      "   @ Base ./loading.jl:1196"
     ]
    }
   ],
   "source": [
    "src_geometry = Geometry(segy_lu; key=\"source\")\n",
    "wavelet = ricker_wavelet(src_geometry.t[1], src_geometry.dt[1], 0.015)  # 15 Hz peak frequency\n",
    "q = judiVector(src_geometry, wavelet)"
   ]
  },
  {
   "cell_type": "code",
   "execution_count": 16,
   "id": "2dfbbb06-e494-446a-8534-9ef01f0222f8",
   "metadata": {},
   "outputs": [
    {
     "ename": "LoadError",
     "evalue": "UndefVarError: d_tti not defined",
     "output_type": "error",
     "traceback": [
      "UndefVarError: d_tti not defined",
      "",
      "Stacktrace:",
      " [1] top-level scope",
      "   @ In[16]:2",
      " [2] eval",
      "   @ ./boot.jl:373 [inlined]",
      " [3] include_string(mapexpr::typeof(REPL.softscope), mod::Module, code::String, filename::String)",
      "   @ Base ./loading.jl:1196"
     ]
    }
   ],
   "source": [
    "shot_id = 47\n",
    "shot = get_data(d_tti[47])\n",
    "xrec = shot.geometry.xloc[1]\n",
    "xsrc = Geometry(q[47].geometry).xloc[1] # convert the out of core geometry to an incore geometry to read the value"
   ]
  },
  {
   "cell_type": "code",
   "execution_count": 17,
   "id": "bba5f1a4-d740-4b41-a68e-1c082a6814da",
   "metadata": {},
   "outputs": [
    {
     "ename": "LoadError",
     "evalue": "UndefVarError: xrec not defined",
     "output_type": "error",
     "traceback": [
      "UndefVarError: xrec not defined",
      "",
      "Stacktrace:",
      " [1] top-level scope",
      "   @ In[17]:1",
      " [2] eval",
      "   @ ./boot.jl:373 [inlined]",
      " [3] include_string(mapexpr::typeof(REPL.softscope), mod::Module, code::String, filename::String)",
      "   @ Base ./loading.jl:1196"
     ]
    }
   ],
   "source": [
    "extent = [xrec[1], xrec[end], src_geometry.t[1], 0]\n",
    "figure(figsize=(10, 10))\n",
    "imshow(shot.data[1], vmin=-.5, vmax=.5, cmap=\"PuOr\", interpolation=:hamming, extent=extent)\n",
    "xlabel(\"Receiver positon (m)\")\n",
    "ylabel(\"Time (ms)\")\n",
    "title(\"Source at $(sx[1])m\")"
   ]
  },
  {
   "cell_type": "code",
   "execution_count": null,
   "id": "926b74ca",
   "metadata": {},
   "outputs": [],
   "source": []
  }
 ],
 "metadata": {
  "kernelspec": {
   "display_name": "Julia 1.7.1",
   "language": "julia",
   "name": "julia-1.7"
  },
  "language_info": {
   "file_extension": ".jl",
   "mimetype": "application/julia",
   "name": "julia",
   "version": "1.7.1"
  }
 },
 "nbformat": 4,
 "nbformat_minor": 5
}
